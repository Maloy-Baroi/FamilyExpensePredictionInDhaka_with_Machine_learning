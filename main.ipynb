{
 "cells": [
  {
   "cell_type": "code",
   "execution_count": 41,
   "metadata": {
    "pycharm": {
     "name": "#%%\n"
    }
   },
   "outputs": [],
   "source": [
    "import pandas as pd"
   ]
  },
  {
   "cell_type": "code",
   "execution_count": 42,
   "metadata": {
    "pycharm": {
     "name": "#%%\n"
    }
   },
   "outputs": [],
   "source": [
    "from sklearn.model_selection import train_test_split"
   ]
  },
  {
   "cell_type": "code",
   "execution_count": 153,
   "metadata": {
    "pycharm": {
     "name": "#%%\n"
    }
   },
   "outputs": [],
   "source": [
    "house_rents = pd.read_csv('houserentdhaka_edited.csv')"
   ]
  },
  {
   "cell_type": "code",
   "execution_count": 154,
   "metadata": {
    "pycharm": {
     "name": "#%%\n"
    }
   },
   "outputs": [
    {
     "data": {
      "text/plain": [
       "Index(['Serial No', 'Location', 'Apartment_size', 'Bed', 'Bath', 'Price',\n",
       "       'Area'],\n",
       "      dtype='object')"
      ]
     },
     "execution_count": 154,
     "metadata": {},
     "output_type": "execute_result"
    }
   ],
   "source": [
    "house_rents.columns"
   ]
  },
  {
   "cell_type": "code",
   "execution_count": 155,
   "metadata": {
    "pycharm": {
     "name": "#%%\n"
    }
   },
   "outputs": [
    {
     "data": {
      "text/html": [
       "<div>\n",
       "<style scoped>\n",
       "    .dataframe tbody tr th:only-of-type {\n",
       "        vertical-align: middle;\n",
       "    }\n",
       "\n",
       "    .dataframe tbody tr th {\n",
       "        vertical-align: top;\n",
       "    }\n",
       "\n",
       "    .dataframe thead th {\n",
       "        text-align: right;\n",
       "    }\n",
       "</style>\n",
       "<table border=\"1\" class=\"dataframe\">\n",
       "  <thead>\n",
       "    <tr style=\"text-align: right;\">\n",
       "      <th></th>\n",
       "      <th>Serial No</th>\n",
       "      <th>Location</th>\n",
       "      <th>Apartment_size</th>\n",
       "      <th>Bed</th>\n",
       "      <th>Bath</th>\n",
       "      <th>Price</th>\n",
       "      <th>Area</th>\n",
       "    </tr>\n",
       "  </thead>\n",
       "  <tbody>\n",
       "    <tr>\n",
       "      <th>0</th>\n",
       "      <td>0</td>\n",
       "      <td>Block H, Bashundhara R-A, Dhaka</td>\n",
       "      <td>1,600 sqft</td>\n",
       "      <td>3</td>\n",
       "      <td>3</td>\n",
       "      <td>20 Thousand</td>\n",
       "      <td>NaN</td>\n",
       "    </tr>\n",
       "    <tr>\n",
       "      <th>1</th>\n",
       "      <td>1</td>\n",
       "      <td>Farmgate, Tejgaon, Dhaka</td>\n",
       "      <td>900 sqft</td>\n",
       "      <td>2</td>\n",
       "      <td>2</td>\n",
       "      <td>20 Thousand</td>\n",
       "      <td>NaN</td>\n",
       "    </tr>\n",
       "    <tr>\n",
       "      <th>2</th>\n",
       "      <td>2</td>\n",
       "      <td>Block B, Nobodoy Housing Society, Mohammadpur,...</td>\n",
       "      <td>1,250 sqft</td>\n",
       "      <td>3</td>\n",
       "      <td>3</td>\n",
       "      <td>18 Thousand</td>\n",
       "      <td>NaN</td>\n",
       "    </tr>\n",
       "    <tr>\n",
       "      <th>3</th>\n",
       "      <td>3</td>\n",
       "      <td>Gulshan 1, Gulshan, Dhaka</td>\n",
       "      <td>2,200 sqft</td>\n",
       "      <td>3</td>\n",
       "      <td>4</td>\n",
       "      <td>75 Thousand</td>\n",
       "      <td>NaN</td>\n",
       "    </tr>\n",
       "    <tr>\n",
       "      <th>4</th>\n",
       "      <td>4</td>\n",
       "      <td>Baridhara, Dhaka</td>\n",
       "      <td>2,200 sqft</td>\n",
       "      <td>3</td>\n",
       "      <td>3</td>\n",
       "      <td>75 Thousand</td>\n",
       "      <td>NaN</td>\n",
       "    </tr>\n",
       "  </tbody>\n",
       "</table>\n",
       "</div>"
      ],
      "text/plain": [
       "   Serial No                                           Location  \\\n",
       "0          0                    Block H, Bashundhara R-A, Dhaka   \n",
       "1          1                           Farmgate, Tejgaon, Dhaka   \n",
       "2          2  Block B, Nobodoy Housing Society, Mohammadpur,...   \n",
       "3          3                          Gulshan 1, Gulshan, Dhaka   \n",
       "4          4                                   Baridhara, Dhaka   \n",
       "\n",
       "  Apartment_size  Bed  Bath        Price  Area  \n",
       "0     1,600 sqft    3     3  20 Thousand   NaN  \n",
       "1       900 sqft    2     2  20 Thousand   NaN  \n",
       "2     1,250 sqft    3     3  18 Thousand   NaN  \n",
       "3     2,200 sqft    3     4  75 Thousand   NaN  \n",
       "4     2,200 sqft    3     3  75 Thousand   NaN  "
      ]
     },
     "execution_count": 155,
     "metadata": {},
     "output_type": "execute_result"
    }
   ],
   "source": [
    "house_rents.head()"
   ]
  },
  {
   "cell_type": "code",
   "execution_count": 156,
   "metadata": {
    "pycharm": {
     "name": "#%%\n"
    }
   },
   "outputs": [],
   "source": [
    "X = house_rents[['Serial No', 'Location', 'Apartment_size', 'Bed', 'Bath']]\n",
    "y = house_rents['Price']"
   ]
  },
  {
   "cell_type": "code",
   "execution_count": 157,
   "metadata": {
    "pycharm": {
     "name": "#%%\n"
    }
   },
   "outputs": [
    {
     "name": "stdout",
     "output_type": "stream",
     "text": [
      "       Serial No                                           Location  \\\n",
      "0              0                    Block H, Bashundhara R-A, Dhaka   \n",
      "1              1                           Farmgate, Tejgaon, Dhaka   \n",
      "2              2  Block B, Nobodoy Housing Society, Mohammadpur,...   \n",
      "3              3                          Gulshan 1, Gulshan, Dhaka   \n",
      "4              4                                   Baridhara, Dhaka   \n",
      "...          ...                                                ...   \n",
      "28795       4795                           Section 2, Mirpur, Dhaka   \n",
      "28796       4796                    Block F, Bashundhara R-A, Dhaka   \n",
      "28797       4797         RK Mission Road, Gopibag, Motijheel, Dhaka   \n",
      "28798       4798                Ullan, West Rampura, Rampura, Dhaka   \n",
      "28799       4799                               Vatara, Badda, Dhaka   \n",
      "\n",
      "      Apartment_size  Bed  Bath        Price  Area  \n",
      "0         1,600 sqft    3     3  20 Thousand   NaN  \n",
      "1           900 sqft    2     2  20 Thousand   NaN  \n",
      "2         1,250 sqft    3     3  18 Thousand   NaN  \n",
      "3         2,200 sqft    3     4  75 Thousand   NaN  \n",
      "4         2,200 sqft    3     3  75 Thousand   NaN  \n",
      "...              ...  ...   ...          ...   ...  \n",
      "28795     1,400 sqft    3     2  15 Thousand   NaN  \n",
      "28796     1,400 sqft    3     3  25 Thousand   NaN  \n",
      "28797     1,250 sqft    3     3  23 Thousand   NaN  \n",
      "28798     1,900 sqft    3     3  30 Thousand   NaN  \n",
      "28799     1,150 sqft    3     2  15 Thousand   NaN  \n",
      "\n",
      "[28442 rows x 7 columns]\n"
     ]
    }
   ],
   "source": [
    "Thousand = 'Thousand'\n",
    "Thousand_house = house_rents.loc[house_rents['Price'].str.contains(Thousand, case=False)]\n",
    "Lakh = 'Lakh'\n",
    "Lakh_house = house_rents.loc[house_rents['Price'].str.contains(Lakh, case=False)]\n",
    "print(Thousand_house)"
   ]
  },
  {
   "cell_type": "code",
   "execution_count": 158,
   "metadata": {
    "pycharm": {
     "name": "#%%\n"
    }
   },
   "outputs": [
    {
     "name": "stdout",
     "output_type": "stream",
     "text": [
      "   Serial No                                           Location  \\\n",
      "0          0                    Block H, Bashundhara R-A, Dhaka   \n",
      "1          1                           Farmgate, Tejgaon, Dhaka   \n",
      "2          2  Block B, Nobodoy Housing Society, Mohammadpur,...   \n",
      "3          3                          Gulshan 1, Gulshan, Dhaka   \n",
      "4          4                                   Baridhara, Dhaka   \n",
      "\n",
      "  Apartment_size  Bed  Bath    Price  Area  \n",
      "0     1,600 sqft    3     3  20000.0   NaN  \n",
      "1       900 sqft    2     2  20000.0   NaN  \n",
      "2     1,250 sqft    3     3  18000.0   NaN  \n",
      "3     2,200 sqft    3     4  75000.0   NaN  \n",
      "4     2,200 sqft    3     3  75000.0   NaN  \n"
     ]
    }
   ],
   "source": [
    "for i in house_rents['Price']:\n",
    "    if 'Thousand' in str(i):\n",
    "        x = str(i).split(\" \")\n",
    "        house_rents['Price'] = house_rents['Price'].replace([i], float(x[0])*1000)\n",
    "    elif 'Lakh' in str(i):\n",
    "        x = str(i).split(\" \")\n",
    "        house_rents['Price'] = house_rents['Price'].replace([i], float(x[0])*100000)\n",
    "print(house_rents.head())"
   ]
  },
  {
   "cell_type": "code",
   "execution_count": 159,
   "metadata": {},
   "outputs": [
    {
     "data": {
      "text/html": [
       "<div>\n",
       "<style scoped>\n",
       "    .dataframe tbody tr th:only-of-type {\n",
       "        vertical-align: middle;\n",
       "    }\n",
       "\n",
       "    .dataframe tbody tr th {\n",
       "        vertical-align: top;\n",
       "    }\n",
       "\n",
       "    .dataframe thead th {\n",
       "        text-align: right;\n",
       "    }\n",
       "</style>\n",
       "<table border=\"1\" class=\"dataframe\">\n",
       "  <thead>\n",
       "    <tr style=\"text-align: right;\">\n",
       "      <th></th>\n",
       "      <th>Serial No</th>\n",
       "      <th>Location</th>\n",
       "      <th>Apartment_size</th>\n",
       "      <th>Bed</th>\n",
       "      <th>Bath</th>\n",
       "      <th>Price</th>\n",
       "      <th>Area</th>\n",
       "    </tr>\n",
       "  </thead>\n",
       "  <tbody>\n",
       "    <tr>\n",
       "      <th>0</th>\n",
       "      <td>0</td>\n",
       "      <td>Block H, Bashundhara R-A, Dhaka</td>\n",
       "      <td>1,600 sqft</td>\n",
       "      <td>3</td>\n",
       "      <td>3</td>\n",
       "      <td>20000.0</td>\n",
       "      <td>NaN</td>\n",
       "    </tr>\n",
       "    <tr>\n",
       "      <th>1</th>\n",
       "      <td>1</td>\n",
       "      <td>Farmgate, Tejgaon, Dhaka</td>\n",
       "      <td>900 sqft</td>\n",
       "      <td>2</td>\n",
       "      <td>2</td>\n",
       "      <td>20000.0</td>\n",
       "      <td>NaN</td>\n",
       "    </tr>\n",
       "    <tr>\n",
       "      <th>2</th>\n",
       "      <td>2</td>\n",
       "      <td>Block B, Nobodoy Housing Society, Mohammadpur,...</td>\n",
       "      <td>1,250 sqft</td>\n",
       "      <td>3</td>\n",
       "      <td>3</td>\n",
       "      <td>18000.0</td>\n",
       "      <td>NaN</td>\n",
       "    </tr>\n",
       "    <tr>\n",
       "      <th>3</th>\n",
       "      <td>3</td>\n",
       "      <td>Gulshan 1, Gulshan, Dhaka</td>\n",
       "      <td>2,200 sqft</td>\n",
       "      <td>3</td>\n",
       "      <td>4</td>\n",
       "      <td>75000.0</td>\n",
       "      <td>NaN</td>\n",
       "    </tr>\n",
       "    <tr>\n",
       "      <th>4</th>\n",
       "      <td>4</td>\n",
       "      <td>Baridhara, Dhaka</td>\n",
       "      <td>2,200 sqft</td>\n",
       "      <td>3</td>\n",
       "      <td>3</td>\n",
       "      <td>75000.0</td>\n",
       "      <td>NaN</td>\n",
       "    </tr>\n",
       "  </tbody>\n",
       "</table>\n",
       "</div>"
      ],
      "text/plain": [
       "   Serial No                                           Location  \\\n",
       "0          0                    Block H, Bashundhara R-A, Dhaka   \n",
       "1          1                           Farmgate, Tejgaon, Dhaka   \n",
       "2          2  Block B, Nobodoy Housing Society, Mohammadpur,...   \n",
       "3          3                          Gulshan 1, Gulshan, Dhaka   \n",
       "4          4                                   Baridhara, Dhaka   \n",
       "\n",
       "  Apartment_size  Bed  Bath    Price  Area  \n",
       "0     1,600 sqft    3     3  20000.0   NaN  \n",
       "1       900 sqft    2     2  20000.0   NaN  \n",
       "2     1,250 sqft    3     3  18000.0   NaN  \n",
       "3     2,200 sqft    3     4  75000.0   NaN  \n",
       "4     2,200 sqft    3     3  75000.0   NaN  "
      ]
     },
     "execution_count": 159,
     "metadata": {},
     "output_type": "execute_result"
    }
   ],
   "source": [
    "house_rents.head()"
   ]
  },
  {
   "cell_type": "code",
   "execution_count": 160,
   "metadata": {
    "pycharm": {
     "name": "#%%\n"
    }
   },
   "outputs": [
    {
     "name": "stdout",
     "output_type": "stream",
     "text": [
      "<class 'pandas.core.frame.DataFrame'>\n",
      "RangeIndex: 28800 entries, 0 to 28799\n",
      "Data columns (total 7 columns):\n",
      " #   Column          Non-Null Count  Dtype  \n",
      "---  ------          --------------  -----  \n",
      " 0   Serial No       28800 non-null  int64  \n",
      " 1   Location        28800 non-null  object \n",
      " 2   Apartment_size  28800 non-null  object \n",
      " 3   Bed             28800 non-null  int64  \n",
      " 4   Bath            28800 non-null  int64  \n",
      " 5   Price           28800 non-null  float64\n",
      " 6   Area            0 non-null      float64\n",
      "dtypes: float64(2), int64(3), object(2)\n",
      "memory usage: 1.5+ MB\n"
     ]
    }
   ],
   "source": [
    "house_rents.info()"
   ]
  },
  {
   "cell_type": "code",
   "execution_count": 161,
   "metadata": {
    "pycharm": {
     "name": "#%%\n"
    }
   },
   "outputs": [
    {
     "name": "stdout",
     "output_type": "stream",
     "text": [
      "   Serial No                                           Location  \\\n",
      "0          0                    Block H, Bashundhara R-A, Dhaka   \n",
      "1          1                           Farmgate, Tejgaon, Dhaka   \n",
      "2          2  Block B, Nobodoy Housing Society, Mohammadpur,...   \n",
      "3          3                          Gulshan 1, Gulshan, Dhaka   \n",
      "4          4                                   Baridhara, Dhaka   \n",
      "\n",
      "   Apartment_size  Bed  Bath    Price  Area  \n",
      "0            1600    3     3  20000.0   NaN  \n",
      "1             900    2     2  20000.0   NaN  \n",
      "2            1250    3     3  18000.0   NaN  \n",
      "3            2200    3     4  75000.0   NaN  \n",
      "4            2200    3     3  75000.0   NaN  \n"
     ]
    }
   ],
   "source": [
    "for i in house_rents['Apartment_size']:\n",
    "    x = str(i).split(\" \")\n",
    "    x_string = x[0].split(\",\")\n",
    "    x_int = \"\".join(x_string)\n",
    "    # house_rents['Price'] = house_rents['Price'].replace([i], float(x[0])*1000)\n",
    "    house_rents['Apartment_size'] = house_rents['Apartment_size'].replace([i], int(x_int))\n",
    "\n",
    "print(house_rents.head())"
   ]
  },
  {
   "cell_type": "code",
   "execution_count": 162,
   "metadata": {
    "pycharm": {
     "name": "#%%\n"
    }
   },
   "outputs": [
    {
     "name": "stdout",
     "output_type": "stream",
     "text": [
      "<class 'pandas.core.frame.DataFrame'>\n",
      "RangeIndex: 28800 entries, 0 to 28799\n",
      "Data columns (total 7 columns):\n",
      " #   Column          Non-Null Count  Dtype  \n",
      "---  ------          --------------  -----  \n",
      " 0   Serial No       28800 non-null  int64  \n",
      " 1   Location        28800 non-null  object \n",
      " 2   Apartment_size  28800 non-null  int64  \n",
      " 3   Bed             28800 non-null  int64  \n",
      " 4   Bath            28800 non-null  int64  \n",
      " 5   Price           28800 non-null  float64\n",
      " 6   Area            0 non-null      float64\n",
      "dtypes: float64(2), int64(4), object(1)\n",
      "memory usage: 1.5+ MB\n"
     ]
    }
   ],
   "source": [
    "house_rents.info()"
   ]
  },
  {
   "cell_type": "code",
   "execution_count": 163,
   "metadata": {
    "pycharm": {
     "name": "#%%\n"
    }
   },
   "outputs": [
    {
     "name": "stdout",
     "output_type": "stream",
     "text": [
      "91\n"
     ]
    }
   ],
   "source": [
    "areas = ['Uttara',\n",
    "         'Pallabi',\n",
    "         'Kazipara',\n",
    "         'Kafrul',\n",
    "         'Agargaon',\n",
    "         'Sher- E- Banglanagar',\n",
    "         'Cantonment',\n",
    "         'Banani',\n",
    "         'Gulshan',\n",
    "         'Mohakhali',\n",
    "         'Bashundhara',\n",
    "         'Bashundhara R-A'\n",
    "         'Banasree',\n",
    "         'Baridhara',\n",
    "         'Uttar Khan',\n",
    "         'Dakshin Khan',\n",
    "         'Bawnia',\n",
    "         'Khilkhet',\n",
    "         'Tejgaon',\n",
    "         'Farmgate',\n",
    "         'Mohammadpur',\n",
    "         'Rampura',\n",
    "         'Badda',\n",
    "         'Satarkul',\n",
    "         'Beraid',\n",
    "         'Khilgaon',\n",
    "         'Vatara',\n",
    "         'Gabtali',\n",
    "         'Hazaribagh',\n",
    "         'Dhanmondi',\n",
    "         'Ramna',\n",
    "         'Motijheel',\n",
    "         'Sabujbagh',\n",
    "         'Lalbagh',\n",
    "         'Kamalapur',\n",
    "         'Kamrangirchar',\n",
    "         'Islampur',\n",
    "         'Sadarghat',\n",
    "         'Wari',\n",
    "         'Kotwali',\n",
    "         'Sutrapur',\n",
    "         'Jurain',\n",
    "         'Dania',\n",
    "         'Demra',\n",
    "         'Shyampur',\n",
    "         'Nimtoli',\n",
    "         'Matuail',\n",
    "         'Shahbagh',\n",
    "         'Nikunja',\n",
    "         'Kalachandpur',\n",
    "         'Mirpur',\n",
    "         'Maghbazar',\n",
    "         'Malibagh',\n",
    "         'Adabor',\n",
    "         'Paribagh',\n",
    "         'Hazaribag',\n",
    "         'Paltan',\n",
    "         'Ibrahimpur',\n",
    "         'Jatra Bari',\n",
    "         'Kakrail',\n",
    "         'Niketan',\n",
    "         'Bashabo',\n",
    "         'Banasree',\n",
    "         'Aftab Nagar',\n",
    "         'Lalmatia',\n",
    "         'Eskaton',\n",
    "         'Shegunbagicha',\n",
    "         'Shantinagar',\n",
    "         'Shyamoli',\n",
    "         'Kalabagan',\n",
    "         'Kuril',\n",
    "         'Nadda',\n",
    "         'Maniknagar',\n",
    "         'Shiddheswari', \n",
    "         'Hatirpool',\n",
    "         'Bangshal',\n",
    "         'Mugdapara',\n",
    "         'Shahjahanpur',\n",
    "         'Kachukhet',\n",
    "         'Joar Sahara',\n",
    "         'Turag',\n",
    "         'Madartek',\n",
    "         'Kadamtala',\n",
    "         'Kathalbagan',\n",
    "         'New Market',\n",
    "         'Katabon',\n",
    "         'Taltola',\n",
    "         'Elephant Road',\n",
    "         'Banglamotors',\n",
    "         'Zafrabad',\n",
    "         'Panthapath',\n",
    "         'Keraniganj',\n",
    "        ]\n",
    "\n",
    "obj = {}\n",
    "\n",
    "for a in areas:\n",
    "    obj[a] = list()\n",
    "\n",
    "print(len(obj))"
   ]
  },
  {
   "cell_type": "code",
   "execution_count": 164,
   "metadata": {},
   "outputs": [
    {
     "name": "stderr",
     "output_type": "stream",
     "text": [
      "<ipython-input-164-6060b6e83af1>:4: SettingWithCopyWarning: \n",
      "A value is trying to be set on a copy of a slice from a DataFrame\n",
      "\n",
      "See the caveats in the documentation: https://pandas.pydata.org/pandas-docs/stable/user_guide/indexing.html#returning-a-view-versus-a-copy\n",
      "  house_rents['Area'][i] = k\n",
      "C:\\Users\\maloy\\anaconda3\\envs\\tensor_gpu\\lib\\site-packages\\pandas\\core\\indexing.py:1637: SettingWithCopyWarning: \n",
      "A value is trying to be set on a copy of a slice from a DataFrame\n",
      "\n",
      "See the caveats in the documentation: https://pandas.pydata.org/pandas-docs/stable/user_guide/indexing.html#returning-a-view-versus-a-copy\n",
      "  self._setitem_single_block(indexer, value, name)\n"
     ]
    }
   ],
   "source": [
    "for k, v in obj.items():\n",
    "    for i in range(len(house_rents['Location'])):\n",
    "        if k in house_rents['Location'][i]:\n",
    "            house_rents['Area'][i] = k\n",
    "            v.append(i)"
   ]
  },
  {
   "cell_type": "code",
   "execution_count": 165,
   "metadata": {},
   "outputs": [
    {
     "data": {
      "text/html": [
       "<div>\n",
       "<style scoped>\n",
       "    .dataframe tbody tr th:only-of-type {\n",
       "        vertical-align: middle;\n",
       "    }\n",
       "\n",
       "    .dataframe tbody tr th {\n",
       "        vertical-align: top;\n",
       "    }\n",
       "\n",
       "    .dataframe thead th {\n",
       "        text-align: right;\n",
       "    }\n",
       "</style>\n",
       "<table border=\"1\" class=\"dataframe\">\n",
       "  <thead>\n",
       "    <tr style=\"text-align: right;\">\n",
       "      <th></th>\n",
       "      <th>Serial No</th>\n",
       "      <th>Location</th>\n",
       "      <th>Apartment_size</th>\n",
       "      <th>Bed</th>\n",
       "      <th>Bath</th>\n",
       "      <th>Price</th>\n",
       "      <th>Area</th>\n",
       "    </tr>\n",
       "  </thead>\n",
       "  <tbody>\n",
       "    <tr>\n",
       "      <th>0</th>\n",
       "      <td>0</td>\n",
       "      <td>Block H, Bashundhara R-A, Dhaka</td>\n",
       "      <td>1600</td>\n",
       "      <td>3</td>\n",
       "      <td>3</td>\n",
       "      <td>20000.0</td>\n",
       "      <td>Bashundhara</td>\n",
       "    </tr>\n",
       "    <tr>\n",
       "      <th>1</th>\n",
       "      <td>1</td>\n",
       "      <td>Farmgate, Tejgaon, Dhaka</td>\n",
       "      <td>900</td>\n",
       "      <td>2</td>\n",
       "      <td>2</td>\n",
       "      <td>20000.0</td>\n",
       "      <td>Farmgate</td>\n",
       "    </tr>\n",
       "    <tr>\n",
       "      <th>2</th>\n",
       "      <td>2</td>\n",
       "      <td>Block B, Nobodoy Housing Society, Mohammadpur,...</td>\n",
       "      <td>1250</td>\n",
       "      <td>3</td>\n",
       "      <td>3</td>\n",
       "      <td>18000.0</td>\n",
       "      <td>Mohammadpur</td>\n",
       "    </tr>\n",
       "    <tr>\n",
       "      <th>3</th>\n",
       "      <td>3</td>\n",
       "      <td>Gulshan 1, Gulshan, Dhaka</td>\n",
       "      <td>2200</td>\n",
       "      <td>3</td>\n",
       "      <td>4</td>\n",
       "      <td>75000.0</td>\n",
       "      <td>Gulshan</td>\n",
       "    </tr>\n",
       "    <tr>\n",
       "      <th>4</th>\n",
       "      <td>4</td>\n",
       "      <td>Baridhara, Dhaka</td>\n",
       "      <td>2200</td>\n",
       "      <td>3</td>\n",
       "      <td>3</td>\n",
       "      <td>75000.0</td>\n",
       "      <td>Baridhara</td>\n",
       "    </tr>\n",
       "    <tr>\n",
       "      <th>5</th>\n",
       "      <td>5</td>\n",
       "      <td>Bashundhara R-A, Dhaka</td>\n",
       "      <td>3000</td>\n",
       "      <td>4</td>\n",
       "      <td>5</td>\n",
       "      <td>50000.0</td>\n",
       "      <td>Bashundhara</td>\n",
       "    </tr>\n",
       "    <tr>\n",
       "      <th>6</th>\n",
       "      <td>6</td>\n",
       "      <td>Baridhara, Dhaka</td>\n",
       "      <td>2300</td>\n",
       "      <td>3</td>\n",
       "      <td>3</td>\n",
       "      <td>75000.0</td>\n",
       "      <td>Baridhara</td>\n",
       "    </tr>\n",
       "    <tr>\n",
       "      <th>7</th>\n",
       "      <td>7</td>\n",
       "      <td>PC Culture Housing, Mohammadpur, Dhaka</td>\n",
       "      <td>950</td>\n",
       "      <td>2</td>\n",
       "      <td>2</td>\n",
       "      <td>14000.0</td>\n",
       "      <td>Mohammadpur</td>\n",
       "    </tr>\n",
       "    <tr>\n",
       "      <th>8</th>\n",
       "      <td>8</td>\n",
       "      <td>Jigatola, Hazaribag, Dhaka</td>\n",
       "      <td>1600</td>\n",
       "      <td>3</td>\n",
       "      <td>3</td>\n",
       "      <td>28000.0</td>\n",
       "      <td>Hazaribag</td>\n",
       "    </tr>\n",
       "    <tr>\n",
       "      <th>9</th>\n",
       "      <td>9</td>\n",
       "      <td>West Kazipara, Mirpur, Dhaka</td>\n",
       "      <td>1150</td>\n",
       "      <td>3</td>\n",
       "      <td>3</td>\n",
       "      <td>19000.0</td>\n",
       "      <td>Mirpur</td>\n",
       "    </tr>\n",
       "    <tr>\n",
       "      <th>10</th>\n",
       "      <td>10</td>\n",
       "      <td>Block D, Bashundhara R-A, Dhaka</td>\n",
       "      <td>1300</td>\n",
       "      <td>3</td>\n",
       "      <td>3</td>\n",
       "      <td>40000.0</td>\n",
       "      <td>Bashundhara</td>\n",
       "    </tr>\n",
       "    <tr>\n",
       "      <th>11</th>\n",
       "      <td>11</td>\n",
       "      <td>Block J, Bashundhara R-A, Dhaka</td>\n",
       "      <td>1250</td>\n",
       "      <td>3</td>\n",
       "      <td>3</td>\n",
       "      <td>19000.0</td>\n",
       "      <td>Bashundhara</td>\n",
       "    </tr>\n",
       "    <tr>\n",
       "      <th>12</th>\n",
       "      <td>12</td>\n",
       "      <td>Block D, Bashundhara R-A, Dhaka</td>\n",
       "      <td>1300</td>\n",
       "      <td>3</td>\n",
       "      <td>3</td>\n",
       "      <td>60000.0</td>\n",
       "      <td>Bashundhara</td>\n",
       "    </tr>\n",
       "    <tr>\n",
       "      <th>13</th>\n",
       "      <td>13</td>\n",
       "      <td>Nikunja 2, Nikunja, Dhaka</td>\n",
       "      <td>750</td>\n",
       "      <td>2</td>\n",
       "      <td>2</td>\n",
       "      <td>16000.0</td>\n",
       "      <td>Nikunja</td>\n",
       "    </tr>\n",
       "    <tr>\n",
       "      <th>14</th>\n",
       "      <td>14</td>\n",
       "      <td>Sector 6, Uttara, Dhaka</td>\n",
       "      <td>1850</td>\n",
       "      <td>3</td>\n",
       "      <td>3</td>\n",
       "      <td>40000.0</td>\n",
       "      <td>Uttara</td>\n",
       "    </tr>\n",
       "    <tr>\n",
       "      <th>15</th>\n",
       "      <td>15</td>\n",
       "      <td>Block D, Bashundhara R-A, Dhaka</td>\n",
       "      <td>1300</td>\n",
       "      <td>3</td>\n",
       "      <td>3</td>\n",
       "      <td>35000.0</td>\n",
       "      <td>Bashundhara</td>\n",
       "    </tr>\n",
       "    <tr>\n",
       "      <th>16</th>\n",
       "      <td>16</td>\n",
       "      <td>Khilgaon, Dhaka</td>\n",
       "      <td>1200</td>\n",
       "      <td>3</td>\n",
       "      <td>3</td>\n",
       "      <td>18000.0</td>\n",
       "      <td>Khilgaon</td>\n",
       "    </tr>\n",
       "    <tr>\n",
       "      <th>17</th>\n",
       "      <td>17</td>\n",
       "      <td>Block K, Baridhara, Dhaka</td>\n",
       "      <td>3000</td>\n",
       "      <td>4</td>\n",
       "      <td>4</td>\n",
       "      <td>160000.0</td>\n",
       "      <td>Baridhara</td>\n",
       "    </tr>\n",
       "    <tr>\n",
       "      <th>18</th>\n",
       "      <td>18</td>\n",
       "      <td>Ibrahimpur, Dhaka</td>\n",
       "      <td>1050</td>\n",
       "      <td>3</td>\n",
       "      <td>3</td>\n",
       "      <td>25000.0</td>\n",
       "      <td>Ibrahimpur</td>\n",
       "    </tr>\n",
       "    <tr>\n",
       "      <th>19</th>\n",
       "      <td>19</td>\n",
       "      <td>Ibrahimpur, Dhaka</td>\n",
       "      <td>1050</td>\n",
       "      <td>3</td>\n",
       "      <td>3</td>\n",
       "      <td>25000.0</td>\n",
       "      <td>Ibrahimpur</td>\n",
       "    </tr>\n",
       "  </tbody>\n",
       "</table>\n",
       "</div>"
      ],
      "text/plain": [
       "    Serial No                                           Location  \\\n",
       "0           0                    Block H, Bashundhara R-A, Dhaka   \n",
       "1           1                           Farmgate, Tejgaon, Dhaka   \n",
       "2           2  Block B, Nobodoy Housing Society, Mohammadpur,...   \n",
       "3           3                          Gulshan 1, Gulshan, Dhaka   \n",
       "4           4                                   Baridhara, Dhaka   \n",
       "5           5                             Bashundhara R-A, Dhaka   \n",
       "6           6                                   Baridhara, Dhaka   \n",
       "7           7             PC Culture Housing, Mohammadpur, Dhaka   \n",
       "8           8                         Jigatola, Hazaribag, Dhaka   \n",
       "9           9                       West Kazipara, Mirpur, Dhaka   \n",
       "10         10                    Block D, Bashundhara R-A, Dhaka   \n",
       "11         11                    Block J, Bashundhara R-A, Dhaka   \n",
       "12         12                    Block D, Bashundhara R-A, Dhaka   \n",
       "13         13                          Nikunja 2, Nikunja, Dhaka   \n",
       "14         14                            Sector 6, Uttara, Dhaka   \n",
       "15         15                    Block D, Bashundhara R-A, Dhaka   \n",
       "16         16                                    Khilgaon, Dhaka   \n",
       "17         17                          Block K, Baridhara, Dhaka   \n",
       "18         18                                  Ibrahimpur, Dhaka   \n",
       "19         19                                  Ibrahimpur, Dhaka   \n",
       "\n",
       "    Apartment_size  Bed  Bath     Price         Area  \n",
       "0             1600    3     3   20000.0  Bashundhara  \n",
       "1              900    2     2   20000.0     Farmgate  \n",
       "2             1250    3     3   18000.0  Mohammadpur  \n",
       "3             2200    3     4   75000.0      Gulshan  \n",
       "4             2200    3     3   75000.0    Baridhara  \n",
       "5             3000    4     5   50000.0  Bashundhara  \n",
       "6             2300    3     3   75000.0    Baridhara  \n",
       "7              950    2     2   14000.0  Mohammadpur  \n",
       "8             1600    3     3   28000.0    Hazaribag  \n",
       "9             1150    3     3   19000.0       Mirpur  \n",
       "10            1300    3     3   40000.0  Bashundhara  \n",
       "11            1250    3     3   19000.0  Bashundhara  \n",
       "12            1300    3     3   60000.0  Bashundhara  \n",
       "13             750    2     2   16000.0      Nikunja  \n",
       "14            1850    3     3   40000.0       Uttara  \n",
       "15            1300    3     3   35000.0  Bashundhara  \n",
       "16            1200    3     3   18000.0     Khilgaon  \n",
       "17            3000    4     4  160000.0    Baridhara  \n",
       "18            1050    3     3   25000.0   Ibrahimpur  \n",
       "19            1050    3     3   25000.0   Ibrahimpur  "
      ]
     },
     "execution_count": 165,
     "metadata": {},
     "output_type": "execute_result"
    }
   ],
   "source": [
    "house_rents.head(20)"
   ]
  },
  {
   "cell_type": "code",
   "execution_count": 198,
   "metadata": {},
   "outputs": [
    {
     "ename": "KeyError",
     "evalue": "1195",
     "output_type": "error",
     "traceback": [
      "\u001b[1;31m---------------------------------------------------------------------------\u001b[0m",
      "\u001b[1;31mKeyError\u001b[0m                                  Traceback (most recent call last)",
      "\u001b[1;32m~\\anaconda3\\envs\\tensor_gpu\\lib\\site-packages\\pandas\\core\\indexes\\base.py\u001b[0m in \u001b[0;36mget_loc\u001b[1;34m(self, key, method, tolerance)\u001b[0m\n\u001b[0;32m   3079\u001b[0m             \u001b[1;32mtry\u001b[0m\u001b[1;33m:\u001b[0m\u001b[1;33m\u001b[0m\u001b[1;33m\u001b[0m\u001b[0m\n\u001b[1;32m-> 3080\u001b[1;33m                 \u001b[1;32mreturn\u001b[0m \u001b[0mself\u001b[0m\u001b[1;33m.\u001b[0m\u001b[0m_engine\u001b[0m\u001b[1;33m.\u001b[0m\u001b[0mget_loc\u001b[0m\u001b[1;33m(\u001b[0m\u001b[0mcasted_key\u001b[0m\u001b[1;33m)\u001b[0m\u001b[1;33m\u001b[0m\u001b[1;33m\u001b[0m\u001b[0m\n\u001b[0m\u001b[0;32m   3081\u001b[0m             \u001b[1;32mexcept\u001b[0m \u001b[0mKeyError\u001b[0m \u001b[1;32mas\u001b[0m \u001b[0merr\u001b[0m\u001b[1;33m:\u001b[0m\u001b[1;33m\u001b[0m\u001b[1;33m\u001b[0m\u001b[0m\n",
      "\u001b[1;32mpandas\\_libs\\index.pyx\u001b[0m in \u001b[0;36mpandas._libs.index.IndexEngine.get_loc\u001b[1;34m()\u001b[0m\n",
      "\u001b[1;32mpandas\\_libs\\index.pyx\u001b[0m in \u001b[0;36mpandas._libs.index.IndexEngine.get_loc\u001b[1;34m()\u001b[0m\n",
      "\u001b[1;32mpandas\\_libs\\hashtable_class_helper.pxi\u001b[0m in \u001b[0;36mpandas._libs.hashtable.Int64HashTable.get_item\u001b[1;34m()\u001b[0m\n",
      "\u001b[1;32mpandas\\_libs\\hashtable_class_helper.pxi\u001b[0m in \u001b[0;36mpandas._libs.hashtable.Int64HashTable.get_item\u001b[1;34m()\u001b[0m\n",
      "\u001b[1;31mKeyError\u001b[0m: 1195",
      "\nThe above exception was the direct cause of the following exception:\n",
      "\u001b[1;31mKeyError\u001b[0m                                  Traceback (most recent call last)",
      "\u001b[1;32m<ipython-input-198-91de475a08ae>\u001b[0m in \u001b[0;36m<module>\u001b[1;34m\u001b[0m\n\u001b[0;32m      1\u001b[0m \u001b[0mcount_nan\u001b[0m \u001b[1;33m=\u001b[0m \u001b[0mset\u001b[0m\u001b[1;33m(\u001b[0m\u001b[1;33m)\u001b[0m\u001b[1;33m\u001b[0m\u001b[1;33m\u001b[0m\u001b[0m\n\u001b[0;32m      2\u001b[0m \u001b[1;32mfor\u001b[0m \u001b[0mi\u001b[0m \u001b[1;32min\u001b[0m \u001b[0mrange\u001b[0m\u001b[1;33m(\u001b[0m\u001b[0mlen\u001b[0m\u001b[1;33m(\u001b[0m\u001b[0mhouse_rents\u001b[0m\u001b[1;33m[\u001b[0m\u001b[1;34m'Area'\u001b[0m\u001b[1;33m]\u001b[0m\u001b[1;33m)\u001b[0m\u001b[1;33m)\u001b[0m\u001b[1;33m:\u001b[0m\u001b[1;33m\u001b[0m\u001b[1;33m\u001b[0m\u001b[0m\n\u001b[1;32m----> 3\u001b[1;33m     \u001b[1;32mif\u001b[0m \u001b[0mhouse_rents\u001b[0m\u001b[1;33m[\u001b[0m\u001b[1;34m'Area'\u001b[0m\u001b[1;33m]\u001b[0m\u001b[1;33m[\u001b[0m\u001b[0mi\u001b[0m\u001b[1;33m]\u001b[0m \u001b[1;32mnot\u001b[0m \u001b[1;32min\u001b[0m \u001b[0mobj\u001b[0m\u001b[1;33m.\u001b[0m\u001b[0mkeys\u001b[0m\u001b[1;33m(\u001b[0m\u001b[1;33m)\u001b[0m\u001b[1;33m:\u001b[0m\u001b[1;33m\u001b[0m\u001b[1;33m\u001b[0m\u001b[0m\n\u001b[0m\u001b[0;32m      4\u001b[0m         \u001b[0mprint\u001b[0m\u001b[1;33m(\u001b[0m\u001b[0mhouse_rents\u001b[0m\u001b[1;33m[\u001b[0m\u001b[1;34m'Location'\u001b[0m\u001b[1;33m]\u001b[0m\u001b[1;33m[\u001b[0m\u001b[0mi\u001b[0m\u001b[1;33m]\u001b[0m\u001b[1;33m,\u001b[0m\u001b[1;34m':'\u001b[0m\u001b[1;33m,\u001b[0m \u001b[0mi\u001b[0m\u001b[1;33m)\u001b[0m\u001b[1;33m\u001b[0m\u001b[1;33m\u001b[0m\u001b[0m\n",
      "\u001b[1;32m~\\anaconda3\\envs\\tensor_gpu\\lib\\site-packages\\pandas\\core\\series.py\u001b[0m in \u001b[0;36m__getitem__\u001b[1;34m(self, key)\u001b[0m\n\u001b[0;32m    851\u001b[0m \u001b[1;33m\u001b[0m\u001b[0m\n\u001b[0;32m    852\u001b[0m         \u001b[1;32melif\u001b[0m \u001b[0mkey_is_scalar\u001b[0m\u001b[1;33m:\u001b[0m\u001b[1;33m\u001b[0m\u001b[1;33m\u001b[0m\u001b[0m\n\u001b[1;32m--> 853\u001b[1;33m             \u001b[1;32mreturn\u001b[0m \u001b[0mself\u001b[0m\u001b[1;33m.\u001b[0m\u001b[0m_get_value\u001b[0m\u001b[1;33m(\u001b[0m\u001b[0mkey\u001b[0m\u001b[1;33m)\u001b[0m\u001b[1;33m\u001b[0m\u001b[1;33m\u001b[0m\u001b[0m\n\u001b[0m\u001b[0;32m    854\u001b[0m \u001b[1;33m\u001b[0m\u001b[0m\n\u001b[0;32m    855\u001b[0m         \u001b[1;32mif\u001b[0m \u001b[0mis_hashable\u001b[0m\u001b[1;33m(\u001b[0m\u001b[0mkey\u001b[0m\u001b[1;33m)\u001b[0m\u001b[1;33m:\u001b[0m\u001b[1;33m\u001b[0m\u001b[1;33m\u001b[0m\u001b[0m\n",
      "\u001b[1;32m~\\anaconda3\\envs\\tensor_gpu\\lib\\site-packages\\pandas\\core\\series.py\u001b[0m in \u001b[0;36m_get_value\u001b[1;34m(self, label, takeable)\u001b[0m\n\u001b[0;32m    959\u001b[0m \u001b[1;33m\u001b[0m\u001b[0m\n\u001b[0;32m    960\u001b[0m         \u001b[1;31m# Similar to Index.get_value, but we do not fall back to positional\u001b[0m\u001b[1;33m\u001b[0m\u001b[1;33m\u001b[0m\u001b[1;33m\u001b[0m\u001b[0m\n\u001b[1;32m--> 961\u001b[1;33m         \u001b[0mloc\u001b[0m \u001b[1;33m=\u001b[0m \u001b[0mself\u001b[0m\u001b[1;33m.\u001b[0m\u001b[0mindex\u001b[0m\u001b[1;33m.\u001b[0m\u001b[0mget_loc\u001b[0m\u001b[1;33m(\u001b[0m\u001b[0mlabel\u001b[0m\u001b[1;33m)\u001b[0m\u001b[1;33m\u001b[0m\u001b[1;33m\u001b[0m\u001b[0m\n\u001b[0m\u001b[0;32m    962\u001b[0m         \u001b[1;32mreturn\u001b[0m \u001b[0mself\u001b[0m\u001b[1;33m.\u001b[0m\u001b[0mindex\u001b[0m\u001b[1;33m.\u001b[0m\u001b[0m_get_values_for_loc\u001b[0m\u001b[1;33m(\u001b[0m\u001b[0mself\u001b[0m\u001b[1;33m,\u001b[0m \u001b[0mloc\u001b[0m\u001b[1;33m,\u001b[0m \u001b[0mlabel\u001b[0m\u001b[1;33m)\u001b[0m\u001b[1;33m\u001b[0m\u001b[1;33m\u001b[0m\u001b[0m\n\u001b[0;32m    963\u001b[0m \u001b[1;33m\u001b[0m\u001b[0m\n",
      "\u001b[1;32m~\\anaconda3\\envs\\tensor_gpu\\lib\\site-packages\\pandas\\core\\indexes\\base.py\u001b[0m in \u001b[0;36mget_loc\u001b[1;34m(self, key, method, tolerance)\u001b[0m\n\u001b[0;32m   3080\u001b[0m                 \u001b[1;32mreturn\u001b[0m \u001b[0mself\u001b[0m\u001b[1;33m.\u001b[0m\u001b[0m_engine\u001b[0m\u001b[1;33m.\u001b[0m\u001b[0mget_loc\u001b[0m\u001b[1;33m(\u001b[0m\u001b[0mcasted_key\u001b[0m\u001b[1;33m)\u001b[0m\u001b[1;33m\u001b[0m\u001b[1;33m\u001b[0m\u001b[0m\n\u001b[0;32m   3081\u001b[0m             \u001b[1;32mexcept\u001b[0m \u001b[0mKeyError\u001b[0m \u001b[1;32mas\u001b[0m \u001b[0merr\u001b[0m\u001b[1;33m:\u001b[0m\u001b[1;33m\u001b[0m\u001b[1;33m\u001b[0m\u001b[0m\n\u001b[1;32m-> 3082\u001b[1;33m                 \u001b[1;32mraise\u001b[0m \u001b[0mKeyError\u001b[0m\u001b[1;33m(\u001b[0m\u001b[0mkey\u001b[0m\u001b[1;33m)\u001b[0m \u001b[1;32mfrom\u001b[0m \u001b[0merr\u001b[0m\u001b[1;33m\u001b[0m\u001b[1;33m\u001b[0m\u001b[0m\n\u001b[0m\u001b[0;32m   3083\u001b[0m \u001b[1;33m\u001b[0m\u001b[0m\n\u001b[0;32m   3084\u001b[0m         \u001b[1;32mif\u001b[0m \u001b[0mtolerance\u001b[0m \u001b[1;32mis\u001b[0m \u001b[1;32mnot\u001b[0m \u001b[1;32mNone\u001b[0m\u001b[1;33m:\u001b[0m\u001b[1;33m\u001b[0m\u001b[1;33m\u001b[0m\u001b[0m\n",
      "\u001b[1;31mKeyError\u001b[0m: 1195"
     ]
    }
   ],
   "source": [
    "count_nan = set()\n",
    "for i in range(len(house_rents['Area'])):\n",
    "    if house_rents['Area'][i] not in obj.keys():\n",
    "        print(house_rents['Location'][i],':', i)"
   ]
  },
  {
   "cell_type": "code",
   "execution_count": 203,
   "metadata": {},
   "outputs": [],
   "source": [
    "house_rents.to_csv('House_Rent_Dhaka.csv', header=True, index=False)"
   ]
  },
  {
   "cell_type": "code",
   "execution_count": 150,
   "metadata": {},
   "outputs": [
    {
     "data": {
      "text/plain": [
       "28799"
      ]
     },
     "execution_count": 150,
     "metadata": {},
     "output_type": "execute_result"
    }
   ],
   "source": [
    "len(house_rents)"
   ]
  },
  {
   "cell_type": "code",
   "execution_count": 206,
   "metadata": {},
   "outputs": [
    {
     "data": {
      "text/plain": [
       "91"
      ]
     },
     "execution_count": 206,
     "metadata": {},
     "output_type": "execute_result"
    }
   ],
   "source": [
    "len(obj.keys())"
   ]
  },
  {
   "cell_type": "code",
   "execution_count": null,
   "metadata": {},
   "outputs": [],
   "source": []
  },
  {
   "cell_type": "code",
   "execution_count": 149,
   "metadata": {},
   "outputs": [
    {
     "data": {
      "text/html": [
       "<div>\n",
       "<style scoped>\n",
       "    .dataframe tbody tr th:only-of-type {\n",
       "        vertical-align: middle;\n",
       "    }\n",
       "\n",
       "    .dataframe tbody tr th {\n",
       "        vertical-align: top;\n",
       "    }\n",
       "\n",
       "    .dataframe thead th {\n",
       "        text-align: right;\n",
       "    }\n",
       "</style>\n",
       "<table border=\"1\" class=\"dataframe\">\n",
       "  <thead>\n",
       "    <tr style=\"text-align: right;\">\n",
       "      <th></th>\n",
       "      <th>Serial No</th>\n",
       "      <th>Location</th>\n",
       "      <th>Apartment_size</th>\n",
       "      <th>Bed</th>\n",
       "      <th>Bath</th>\n",
       "      <th>Price</th>\n",
       "      <th>Area</th>\n",
       "    </tr>\n",
       "  </thead>\n",
       "  <tbody>\n",
       "    <tr>\n",
       "      <th>1196</th>\n",
       "      <td>1196</td>\n",
       "      <td>Baridhara, Dhaka</td>\n",
       "      <td>3000</td>\n",
       "      <td>4</td>\n",
       "      <td>5</td>\n",
       "      <td>250000.0</td>\n",
       "      <td>Baridhara</td>\n",
       "    </tr>\n",
       "  </tbody>\n",
       "</table>\n",
       "</div>"
      ],
      "text/plain": [
       "      Serial No          Location  Apartment_size  Bed  Bath     Price  \\\n",
       "1196       1196  Baridhara, Dhaka            3000    4     5  250000.0   \n",
       "\n",
       "           Area  \n",
       "1196  Baridhara  "
      ]
     },
     "execution_count": 149,
     "metadata": {},
     "output_type": "execute_result"
    }
   ],
   "source": [
    "house_rents[:][1195:1196]"
   ]
  },
  {
   "cell_type": "code",
   "execution_count": 54,
   "metadata": {
    "pycharm": {
     "name": "#%%\n"
    }
   },
   "outputs": [],
   "source": [
    "olpo_location = []\n",
    "for k, v in obj.items():\n",
    "    for i in house_rents['Location']:\n",
    "        if k in i:\n",
    "            house_rents['Area']\n",
    "            v.append(i)\n",
    "    \n",
    "# for loc in house_rents['Location']:\n",
    "#     c = 0\n",
    "#     for k, v in zip(obj.keys(), obj.values()):\n",
    "#         if loc.find(k) != -1:\n",
    "#             c = 1\n",
    "#             obj[k].append(loc)"
   ]
  },
  {
   "cell_type": "code",
   "execution_count": 56,
   "metadata": {},
   "outputs": [
    {
     "data": {
      "text/plain": [
       "55"
      ]
     },
     "execution_count": 56,
     "metadata": {},
     "output_type": "execute_result"
    }
   ],
   "source": []
  },
  {
   "cell_type": "code",
   "execution_count": 57,
   "metadata": {
    "pycharm": {
     "name": "#%%\n"
    }
   },
   "outputs": [
    {
     "name": "stdout",
     "output_type": "stream",
     "text": [
      "25915\n",
      "28800\n"
     ]
    }
   ],
   "source": [
    "counter_empty_list = 0\n",
    "total_places = 0\n",
    "for c in obj.keys():\n",
    "    if len(obj[c]) == 0:\n",
    "        counter_empty_list += 1\n",
    "    else:\n",
    "        total_places += len(obj[c])\n",
    "\n",
    "# for k, v in zip(obj.keys(), obj.values()):\n",
    "#     # if len(v) == 0:\n",
    "#     #     print(k)\n",
    "#     for s in house_rents['Location']:\n",
    "#         if s not in v:\n",
    "#             print(s)\n",
    "#             print('\\n')\n",
    "\n",
    "\n",
    "print(total_places)\n",
    "print(len(house_rents['Location']))\n"
   ]
  },
  {
   "cell_type": "code",
   "execution_count": 10,
   "metadata": {
    "pycharm": {
     "name": "#%%\n"
    }
   },
   "outputs": [
    {
     "data": {
      "text/plain": [
       "Index(['Serial No', 'Location', 'Apartment_size', 'Bed', 'Bath', 'Price'], dtype='object')"
      ]
     },
     "execution_count": 10,
     "metadata": {},
     "output_type": "execute_result"
    }
   ],
   "source": [
    "house_rents.columns"
   ]
  },
  {
   "cell_type": "code",
   "execution_count": 11,
   "metadata": {
    "pycharm": {
     "name": "#%%\n"
    }
   },
   "outputs": [],
   "source": [
    "X = house_rents[['Serial No', 'Location', 'Apartment_size', 'Bed', 'Bath']]\n",
    "y = house_rents['Price']"
   ]
  }
 ],
 "metadata": {
  "kernelspec": {
   "display_name": "Python 3",
   "language": "python",
   "name": "python3"
  },
  "language_info": {
   "codemirror_mode": {
    "name": "ipython",
    "version": 3
   },
   "file_extension": ".py",
   "mimetype": "text/x-python",
   "name": "python",
   "nbconvert_exporter": "python",
   "pygments_lexer": "ipython3",
   "version": "3.8.8"
  },
  "vscode": {
   "interpreter": {
    "hash": "cafb59401da6023f1a76313dcb5c0d7d184768a7d1d3f48185c270e9ea121305"
   }
  }
 },
 "nbformat": 4,
 "nbformat_minor": 2
}
