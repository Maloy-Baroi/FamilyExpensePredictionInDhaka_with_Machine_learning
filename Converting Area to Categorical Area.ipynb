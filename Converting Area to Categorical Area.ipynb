{
 "cells": [
  {
   "cell_type": "code",
   "execution_count": 1,
   "id": "d158cb96",
   "metadata": {},
   "outputs": [],
   "source": [
    "import pandas as pd"
   ]
  },
  {
   "cell_type": "code",
   "execution_count": 2,
   "id": "75a793b8",
   "metadata": {},
   "outputs": [],
   "source": [
    "df = pd.read_csv('House_Rent_Dhaka.csv')"
   ]
  },
  {
   "cell_type": "code",
   "execution_count": 3,
   "id": "a792a739",
   "metadata": {},
   "outputs": [
    {
     "data": {
      "text/html": [
       "<div>\n",
       "<style scoped>\n",
       "    .dataframe tbody tr th:only-of-type {\n",
       "        vertical-align: middle;\n",
       "    }\n",
       "\n",
       "    .dataframe tbody tr th {\n",
       "        vertical-align: top;\n",
       "    }\n",
       "\n",
       "    .dataframe thead th {\n",
       "        text-align: right;\n",
       "    }\n",
       "</style>\n",
       "<table border=\"1\" class=\"dataframe\">\n",
       "  <thead>\n",
       "    <tr style=\"text-align: right;\">\n",
       "      <th></th>\n",
       "      <th>Serial No</th>\n",
       "      <th>Location</th>\n",
       "      <th>Apartment_size</th>\n",
       "      <th>Bed</th>\n",
       "      <th>Bath</th>\n",
       "      <th>Price</th>\n",
       "      <th>Area</th>\n",
       "    </tr>\n",
       "  </thead>\n",
       "  <tbody>\n",
       "    <tr>\n",
       "      <th>0</th>\n",
       "      <td>0</td>\n",
       "      <td>Block H, Bashundhara R-A, Dhaka</td>\n",
       "      <td>1600</td>\n",
       "      <td>3</td>\n",
       "      <td>3</td>\n",
       "      <td>20000</td>\n",
       "      <td>Bashundhara</td>\n",
       "    </tr>\n",
       "    <tr>\n",
       "      <th>1</th>\n",
       "      <td>1</td>\n",
       "      <td>Farmgate, Tejgaon, Dhaka</td>\n",
       "      <td>900</td>\n",
       "      <td>2</td>\n",
       "      <td>2</td>\n",
       "      <td>20000</td>\n",
       "      <td>Farmgate</td>\n",
       "    </tr>\n",
       "    <tr>\n",
       "      <th>2</th>\n",
       "      <td>2</td>\n",
       "      <td>Block B, Nobodoy Housing Society, Mohammadpur,...</td>\n",
       "      <td>1250</td>\n",
       "      <td>3</td>\n",
       "      <td>3</td>\n",
       "      <td>18000</td>\n",
       "      <td>Mohammadpur</td>\n",
       "    </tr>\n",
       "    <tr>\n",
       "      <th>3</th>\n",
       "      <td>3</td>\n",
       "      <td>Gulshan 1, Gulshan, Dhaka</td>\n",
       "      <td>2200</td>\n",
       "      <td>3</td>\n",
       "      <td>4</td>\n",
       "      <td>75000</td>\n",
       "      <td>Gulshan</td>\n",
       "    </tr>\n",
       "    <tr>\n",
       "      <th>4</th>\n",
       "      <td>4</td>\n",
       "      <td>Baridhara, Dhaka</td>\n",
       "      <td>2200</td>\n",
       "      <td>3</td>\n",
       "      <td>3</td>\n",
       "      <td>75000</td>\n",
       "      <td>Baridhara</td>\n",
       "    </tr>\n",
       "  </tbody>\n",
       "</table>\n",
       "</div>"
      ],
      "text/plain": [
       "   Serial No                                           Location  \\\n",
       "0          0                    Block H, Bashundhara R-A, Dhaka   \n",
       "1          1                           Farmgate, Tejgaon, Dhaka   \n",
       "2          2  Block B, Nobodoy Housing Society, Mohammadpur,...   \n",
       "3          3                          Gulshan 1, Gulshan, Dhaka   \n",
       "4          4                                   Baridhara, Dhaka   \n",
       "\n",
       "   Apartment_size  Bed  Bath  Price         Area  \n",
       "0            1600    3     3  20000  Bashundhara  \n",
       "1             900    2     2  20000     Farmgate  \n",
       "2            1250    3     3  18000  Mohammadpur  \n",
       "3            2200    3     4  75000      Gulshan  \n",
       "4            2200    3     3  75000    Baridhara  "
      ]
     },
     "execution_count": 3,
     "metadata": {},
     "output_type": "execute_result"
    }
   ],
   "source": [
    "df.head()"
   ]
  },
  {
   "cell_type": "code",
   "execution_count": 4,
   "id": "6179cff6",
   "metadata": {},
   "outputs": [
    {
     "data": {
      "text/plain": [
       "0        Bashundhara\n",
       "1           Farmgate\n",
       "2        Mohammadpur\n",
       "3            Gulshan\n",
       "4          Baridhara\n",
       "            ...     \n",
       "28782         Mirpur\n",
       "28783    Bashundhara\n",
       "28784      Motijheel\n",
       "28785        Rampura\n",
       "28786         Vatara\n",
       "Name: Area, Length: 28787, dtype: object"
      ]
     },
     "execution_count": 4,
     "metadata": {},
     "output_type": "execute_result"
    }
   ],
   "source": [
    "df.Area"
   ]
  },
  {
   "cell_type": "code",
   "execution_count": 16,
   "id": "b60e8bf9",
   "metadata": {},
   "outputs": [],
   "source": [
    "# df['Area_code'] = pd.factorize(df.Area)[0]"
   ]
  },
  {
   "cell_type": "code",
   "execution_count": 5,
   "id": "5bf3ba3f",
   "metadata": {},
   "outputs": [],
   "source": [
    "from sklearn.preprocessing import LabelEncoder\n",
    "\n",
    "le = LabelEncoder()\n",
    "df['Area_code'] = le.fit_transform(df.Location)\n"
   ]
  },
  {
   "cell_type": "code",
   "execution_count": 6,
   "id": "f46c4ec7",
   "metadata": {},
   "outputs": [
    {
     "data": {
      "text/html": [
       "<div>\n",
       "<style scoped>\n",
       "    .dataframe tbody tr th:only-of-type {\n",
       "        vertical-align: middle;\n",
       "    }\n",
       "\n",
       "    .dataframe tbody tr th {\n",
       "        vertical-align: top;\n",
       "    }\n",
       "\n",
       "    .dataframe thead th {\n",
       "        text-align: right;\n",
       "    }\n",
       "</style>\n",
       "<table border=\"1\" class=\"dataframe\">\n",
       "  <thead>\n",
       "    <tr style=\"text-align: right;\">\n",
       "      <th></th>\n",
       "      <th>Serial No</th>\n",
       "      <th>Location</th>\n",
       "      <th>Apartment_size</th>\n",
       "      <th>Bed</th>\n",
       "      <th>Bath</th>\n",
       "      <th>Price</th>\n",
       "      <th>Area</th>\n",
       "      <th>Area_code</th>\n",
       "    </tr>\n",
       "  </thead>\n",
       "  <tbody>\n",
       "    <tr>\n",
       "      <th>0</th>\n",
       "      <td>0</td>\n",
       "      <td>Block H, Bashundhara R-A, Dhaka</td>\n",
       "      <td>1600</td>\n",
       "      <td>3</td>\n",
       "      <td>3</td>\n",
       "      <td>20000</td>\n",
       "      <td>Bashundhara</td>\n",
       "      <td>238</td>\n",
       "    </tr>\n",
       "    <tr>\n",
       "      <th>1</th>\n",
       "      <td>1</td>\n",
       "      <td>Farmgate, Tejgaon, Dhaka</td>\n",
       "      <td>900</td>\n",
       "      <td>2</td>\n",
       "      <td>2</td>\n",
       "      <td>20000</td>\n",
       "      <td>Farmgate</td>\n",
       "      <td>328</td>\n",
       "    </tr>\n",
       "    <tr>\n",
       "      <th>2</th>\n",
       "      <td>2</td>\n",
       "      <td>Block B, Nobodoy Housing Society, Mohammadpur,...</td>\n",
       "      <td>1250</td>\n",
       "      <td>3</td>\n",
       "      <td>3</td>\n",
       "      <td>18000</td>\n",
       "      <td>Mohammadpur</td>\n",
       "      <td>125</td>\n",
       "    </tr>\n",
       "    <tr>\n",
       "      <th>3</th>\n",
       "      <td>3</td>\n",
       "      <td>Gulshan 1, Gulshan, Dhaka</td>\n",
       "      <td>2200</td>\n",
       "      <td>3</td>\n",
       "      <td>4</td>\n",
       "      <td>75000</td>\n",
       "      <td>Gulshan</td>\n",
       "      <td>345</td>\n",
       "    </tr>\n",
       "    <tr>\n",
       "      <th>4</th>\n",
       "      <td>4</td>\n",
       "      <td>Baridhara, Dhaka</td>\n",
       "      <td>2200</td>\n",
       "      <td>3</td>\n",
       "      <td>3</td>\n",
       "      <td>75000</td>\n",
       "      <td>Baridhara</td>\n",
       "      <td>59</td>\n",
       "    </tr>\n",
       "  </tbody>\n",
       "</table>\n",
       "</div>"
      ],
      "text/plain": [
       "   Serial No                                           Location  \\\n",
       "0          0                    Block H, Bashundhara R-A, Dhaka   \n",
       "1          1                           Farmgate, Tejgaon, Dhaka   \n",
       "2          2  Block B, Nobodoy Housing Society, Mohammadpur,...   \n",
       "3          3                          Gulshan 1, Gulshan, Dhaka   \n",
       "4          4                                   Baridhara, Dhaka   \n",
       "\n",
       "   Apartment_size  Bed  Bath  Price         Area  Area_code  \n",
       "0            1600    3     3  20000  Bashundhara        238  \n",
       "1             900    2     2  20000     Farmgate        328  \n",
       "2            1250    3     3  18000  Mohammadpur        125  \n",
       "3            2200    3     4  75000      Gulshan        345  \n",
       "4            2200    3     3  75000    Baridhara         59  "
      ]
     },
     "execution_count": 6,
     "metadata": {},
     "output_type": "execute_result"
    }
   ],
   "source": [
    "df.head()"
   ]
  },
  {
   "cell_type": "code",
   "execution_count": 8,
   "id": "6668567e",
   "metadata": {},
   "outputs": [
    {
     "data": {
      "text/plain": [
       "461    757\n",
       "451    556\n",
       "194    417\n",
       "296    414\n",
       "212    411\n",
       "      ... \n",
       "387      1\n",
       "258      1\n",
       "199      1\n",
       "109      1\n",
       "3        1\n",
       "Name: Area_code, Length: 729, dtype: int64"
      ]
     },
     "execution_count": 8,
     "metadata": {},
     "output_type": "execute_result"
    }
   ],
   "source": [
    "df.Area_code.value_counts()"
   ]
  },
  {
   "cell_type": "code",
   "execution_count": 7,
   "id": "d3540eff",
   "metadata": {},
   "outputs": [
    {
     "data": {
      "text/plain": [
       "Mirpur           8425\n",
       "Mohammadpur      3427\n",
       "Uttara           2070\n",
       "Badda            1537\n",
       "Bashundhara      1397\n",
       "                 ... \n",
       "Elephant Road       2\n",
       "Sadarghat           2\n",
       "Matuail             2\n",
       "Banglamotors        2\n",
       "Panthapath          1\n",
       "Name: Area, Length: 75, dtype: int64"
      ]
     },
     "execution_count": 7,
     "metadata": {},
     "output_type": "execute_result"
    }
   ],
   "source": [
    "df.Area.value_counts()"
   ]
  },
  {
   "cell_type": "code",
   "execution_count": 9,
   "id": "09f89ea0",
   "metadata": {},
   "outputs": [],
   "source": [
    "df.to_csv('House_Rent_Dhaka_with_Categorical_to_AreaCode.csv', header=True, index=False)"
   ]
  }
 ],
 "metadata": {
  "kernelspec": {
   "display_name": "Python 3",
   "language": "python",
   "name": "python3"
  },
  "language_info": {
   "codemirror_mode": {
    "name": "ipython",
    "version": 3
   },
   "file_extension": ".py",
   "mimetype": "text/x-python",
   "name": "python",
   "nbconvert_exporter": "python",
   "pygments_lexer": "ipython3",
   "version": "3.8.8"
  }
 },
 "nbformat": 4,
 "nbformat_minor": 5
}
